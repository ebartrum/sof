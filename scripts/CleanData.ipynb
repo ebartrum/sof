{
 "cells": [
  {
   "cell_type": "code",
   "execution_count": 11,
   "metadata": {},
   "outputs": [],
   "source": [
    "from __future__ import print_function\n",
    "from ipywidgets import Layout, Button, VBox, Label, Box, Checkbox, Image\n",
    "import os\n",
    "import shutil\n",
    "from glob import glob\n",
    "import matplotlib.pyplot as plt"
   ]
  },
  {
   "cell_type": "code",
   "execution_count": 16,
   "metadata": {},
   "outputs": [
    {
     "data": {
      "application/vnd.jupyter.widget-view+json": {
       "model_id": "a4354c2dde104bb4b68bc810a436580f",
       "version_major": 2,
       "version_minor": 0
      },
      "text/plain": [
       "VBox(children=(Button(description='NEXT', style=ButtonStyle()), Label(value='[  00000 ] loaded 10 items'), Box…"
      ]
     },
     "metadata": {},
     "output_type": "display_data"
    }
   ],
   "source": [
    "_ROOT_DIR_REGEX = '/home/anpei/liury/data/facial-data/seg_face_real'\n",
    "\n",
    "\n",
    "item_layout = Layout(overflow='scroll hidden',\n",
    "                     border='3px solid orange',\n",
    "                     display='flex', \n",
    "                     flex_flow='row',\n",
    "                     align_items='stretch',\n",
    "                     width='200px')\n",
    "\n",
    "\n",
    "box_layout = Layout(overflow='scroll hidden',\n",
    "                    border='3px solid black',\n",
    "                    width='1500px',\n",
    "                    flex_flow='row',\n",
    "                    display='flex')\n",
    "\n",
    "\n",
    "all_ins_dirs = sorted(glob(os.path.join(_ROOT_DIR_REGEX, './[0-9]*')))\n",
    "cur_ins_idx = 0\n",
    "\n",
    "def _build_vis():\n",
    "    global cur_ins_idx\n",
    "    global all_ins_dirs\n",
    "    \n",
    "    ins_dir = all_ins_dirs[cur_ins_idx % len(all_ins_dirs)]\n",
    "    all_imgs = glob(os.path.join(ins_dir, 'seg_vis_*.png'))\n",
    "    \n",
    "    ins_id = os.path.basename(ins_dir)\n",
    "    \n",
    "    all_items = []\n",
    "    \n",
    "    for img_fp in all_imgs:\n",
    "        with open(img_fp, 'rb') as f:\n",
    "            img_raw = f.read()\n",
    "            \n",
    "        img_item = Image(value=img_raw)        \n",
    "        img_item.layout.object_fit = 'scale-down'\n",
    "        image_margin = '5 5 5 5'\n",
    "    \n",
    "        check_item = Checkbox(value=True, description=img_fp)\n",
    "        \n",
    "        def remove_item(change):\n",
    "            check, img_fp = change['new'], change['owner'].description\n",
    "            if not check and (os.path.exists(img_fp)):\n",
    "                os.remove(img_fp)\n",
    "                \n",
    "        check_item.observe(remove_item, names='value')\n",
    "        all_items.append(VBox([img_item, check_item]))\n",
    "    \n",
    "    label = Label('[ %s %s ] loaded %d items'%(('[C]' if cur_ins_idx > len(all_ins_dirs) else ''), ins_id, len(all_imgs)))\n",
    "    carousel = Box(children=all_items, layout=box_layout)\n",
    "    \n",
    "    cur_ins_idx += 1\n",
    "        \n",
    "    return label, carousel\n",
    "\n",
    "\n",
    "label, carousel = _build_vis()\n",
    "\n",
    "next_btn = Button(description='NEXT')\n",
    "output = VBox([next_btn,  label, carousel])\n",
    "\n",
    "def next_folder(b):\n",
    "    \n",
    "    label, carousel = _build_vis()\n",
    "    output.children = [b, label, carousel]\n",
    "\n",
    "#         display(output)\n",
    "\n",
    "next_btn.on_click(next_folder)\n",
    "\n",
    "display(output)"
   ]
  },
  {
   "cell_type": "code",
   "execution_count": null,
   "metadata": {},
   "outputs": [],
   "source": []
  }
 ],
 "metadata": {
  "kernelspec": {
   "display_name": "Python 3",
   "language": "python",
   "name": "python3"
  },
  "language_info": {
   "codemirror_mode": {
    "name": "ipython",
    "version": 3
   },
   "file_extension": ".py",
   "mimetype": "text/x-python",
   "name": "python",
   "nbconvert_exporter": "python",
   "pygments_lexer": "ipython3",
   "version": "3.7.7"
  }
 },
 "nbformat": 4,
 "nbformat_minor": 4
}
