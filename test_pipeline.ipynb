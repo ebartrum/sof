{
 "cells": [
  {
   "cell_type": "code",
   "execution_count": 1,
   "metadata": {},
   "outputs": [],
   "source": [
    "import configargparse\n",
    "import os\n",
    "import time\n",
    "import datetime\n",
    "\n",
    "import torch\n",
    "from torch.utils.tensorboard import SummaryWriter\n",
    "import numpy as np\n",
    "\n",
    "import dataset\n",
    "\n",
    "from torch.utils.data import DataLoader\n",
    "from modeling import SOFModel\n",
    "import utils.common as util\n",
    "\n",
    "import random\n",
    "import re\n",
    "import shutil\n",
    "\n",
    "from datetime import datetime\n"
   ]
  },
  {
   "cell_type": "code",
   "execution_count": 2,
   "metadata": {},
   "outputs": [
    {
     "name": "stdout",
     "output_type": "stream",
     "text": [
      "*** len_totimgs =  0\n",
      "Load CelebA, num_instances =  0\n",
      "> Load 0 instances from data/celebA.\n",
      "<dataset.face_dataset.CelebAMaskDataset object at 0x7f5f004015e0>\n"
     ]
    }
   ],
   "source": [
    "train_dataset = getattr(dataset, 'CelebAMaskDataset')(root_dir='data/celebA')\n",
    "print(train_dataset)"
   ]
  },
  {
   "cell_type": "code",
   "execution_count": null,
   "metadata": {},
   "outputs": [],
   "source": []
  }
 ],
 "metadata": {
  "kernelspec": {
   "display_name": "Python 3 (ipykernel)",
   "language": "python",
   "name": "python3"
  },
  "language_info": {
   "codemirror_mode": {
    "name": "ipython",
    "version": 3
   },
   "file_extension": ".py",
   "mimetype": "text/x-python",
   "name": "python",
   "nbconvert_exporter": "python",
   "pygments_lexer": "ipython3",
   "version": "3.8.3"
  }
 },
 "nbformat": 4,
 "nbformat_minor": 4
}
